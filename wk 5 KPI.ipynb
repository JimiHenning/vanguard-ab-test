{
 "cells": [
  {
   "cell_type": "code",
   "execution_count": 12,
   "id": "53435ce4-3efd-45a1-88d2-dc445451707b",
   "metadata": {},
   "outputs": [
    {
     "data": {
      "text/plain": [
       "5983600"
      ]
     },
     "execution_count": 12,
     "metadata": {},
     "output_type": "execute_result"
    }
   ],
   "source": [
    "import pandas as pd\n",
    "\n",
    "df_pt1 = pd.read_csv('df_final_web_data_pt_1.txt')\n",
    "df_pt2 = pd.read_csv('df_final_web_data_pt_2.txt')\n",
    "df_experi = pd.read_csv('df_final_experiment_clients.txt')\n",
    "df_demo = pd.read_csv('df_final_demo.txt')\n",
    "pd.set_option('display.max_rows',1000)\n",
    "\n",
    "# combine original 3 data files: df_pt1 + df_pt2 + final_experiment \n",
    "df_12 = pd.concat([df_pt1,df_pt2],ignore_index=True)\n",
    "df_merged_12_experi = pd.merge(df_12,df_experi, on='client_id',how='outer')\n",
    "\n",
    "# totally remove 10764 useless duplicatd rows from above \n",
    "df_merged_unique = df_merged_12_experi.drop_duplicates(keep='first')\n",
    "df_merged_unique_demo = pd.merge(df_merged_unique,df_demo, on='client_id',how='outer')\n",
    "df_merged_4files = df_merged_unique_demo.drop_duplicates(keep='first')\n",
    "\n",
    "# devide above last df into 2 group df( experient and non_experiment group)\n",
    "df_expe     = df_merged_4files[df_merged_4files['Variation'].isna()]\n",
    "df_non_expe = df_merged_4files[df_merged_4files['Variation'].notna()]\n",
    "\n",
    "# clean non experient group df: remove all those rows(112 rows) which value are null for anyone of below column:\n",
    "df_non_expe_cleaned = df_non_expe.dropna(subset=['clnt_tenure_yr','clnt_tenure_mnth','clnt_age','gendr','num_accts','bal','calls_6_mnth','logons_6_mnth'])\n",
    "\n",
    "# clean experient group df\n",
    "df_expe = df_expe[df_expe['gendr'] !='X']\n",
    "df_expe.loc[df_expe['gendr']=='U','gendr']='Unknown'\n",
    "df_expe.loc[df_expe['clnt_tenure_mnth']>12,'clnt_tenure_mnth']=df_expe['clnt_tenure_mnth'] % 12\n",
    "\n",
    "#print(df_expe['clnt_tenure_mnth'].value_counts())\n",
    "df_experiment.head(100)\n",
    "\n"
   ]
  },
  {
   "cell_type": "code",
   "execution_count": null,
   "id": "d81f13d3-4c5a-4f09-86d5-a061fce65ecf",
   "metadata": {},
   "outputs": [],
   "source": []
  },
  {
   "cell_type": "code",
   "execution_count": null,
   "id": "a6ca91fd-3aee-47f4-be42-0ab859d63d57",
   "metadata": {},
   "outputs": [],
   "source": [
    "# combine original 3 data files: df_pt1 + df_pt2 + final_experiment \n",
    "df_12 = pd.concat([df_pt1,df_pt2],ignore_index=True)\n",
    "df_merged_12_experi = pd.merge(df_12,df_experi, on='client_id',how='outer')"
   ]
  },
  {
   "cell_type": "code",
   "execution_count": null,
   "id": "23820f35-bc62-4f3b-8849-11d22d2a0813",
   "metadata": {},
   "outputs": [],
   "source": [
    "# totally remove 10764 useless duplicatd rows from above \n",
    "df_merged_unique = df_merged_12_experi.drop_duplicates(keep='first')\n",
    "df_merged_unique_demo = pd.merge(df_merged_unique,df_demo, on='client_id',how='outer')\n",
    "df_merged_4files = df_merged_unique_demo.drop_duplicates(keep='first')"
   ]
  },
  {
   "cell_type": "code",
   "execution_count": null,
   "id": "7f966ef3-d7c9-47a3-94d5-a2cd802a0954",
   "metadata": {},
   "outputs": [],
   "source": [
    "# devide above last df into 2 group df( experient and non_experiment group)\n",
    "df_expe     = df_merged_4files[df_merged_4files['Variation'].isna()]\n",
    "df_non_expe = df_merged_4files[df_merged_4files['Variation'].notna()]\n"
   ]
  },
  {
   "cell_type": "code",
   "execution_count": null,
   "id": "f2a670b3-2081-439e-9ae9-90e613869d8f",
   "metadata": {},
   "outputs": [],
   "source": [
    "# clean non experient group df: remove all those rows(112 rows) which value are null for anyone of below column:\n",
    "df_non_expe_cleaned = df_non_expe.dropna(subset=['clnt_tenure_yr','clnt_tenure_mnth','clnt_age','gendr','num_accts','bal','calls_6_mnth','logons_6_mnth'])"
   ]
  },
  {
   "cell_type": "code",
   "execution_count": null,
   "id": "70523f78-8790-48d3-8f66-c79012865cbf",
   "metadata": {},
   "outputs": [],
   "source": [
    "# clean experient group df\n",
    "df_expe = df_expe[df_expe['gendr'] !='X']\n",
    "df_expe.loc[df_expe['gendr']=='U','gendr']='Unknown'\n",
    "df_expe.loc[df_expe['clnt_tenure_mnth']>12,'clnt_tenure_mnth']=df_expe['clnt_tenure_mnth'] % 12"
   ]
  }
 ],
 "metadata": {
  "kernelspec": {
   "display_name": "Python 3 (ipykernel)",
   "language": "python",
   "name": "python3"
  },
  "language_info": {
   "codemirror_mode": {
    "name": "ipython",
    "version": 3
   },
   "file_extension": ".py",
   "mimetype": "text/x-python",
   "name": "python",
   "nbconvert_exporter": "python",
   "pygments_lexer": "ipython3",
   "version": "3.12.4"
  }
 },
 "nbformat": 4,
 "nbformat_minor": 5
}
